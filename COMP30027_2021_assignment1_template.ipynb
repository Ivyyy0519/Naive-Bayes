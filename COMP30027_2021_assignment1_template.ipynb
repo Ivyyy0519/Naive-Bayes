{
 "cells": [
  {
   "cell_type": "markdown",
   "metadata": {},
   "source": [
    "###### ### The University of Melbourne, School of Computing and Information Systems\n",
    "# COMP30027 Machine Learning, 2021 Semester 1\n",
    "\n",
    "## Assignment 1: Pose classification with naive Bayes\n"
   ]
  },
  {
   "cell_type": "markdown",
   "metadata": {},
   "source": [
    "**Student ID(s):**     `PLEASE ENTER YOUR ID(S) HERE`\n"
   ]
  },
  {
   "cell_type": "markdown",
   "metadata": {},
   "source": [
    "This iPython notebook is a template which you will use for your Assignment 1 submission.\n",
    "\n",
    "Marking will be applied on the four functions that are defined in this notebook, and to your responses to the questions at the end of this notebook (Submitted in a separate PDF file).\n",
    "\n",
    "**NOTE: YOU SHOULD ADD YOUR RESULTS, DIAGRAMS AND IMAGES FROM YOUR OBSERVATIONS IN THIS FILE TO YOUR REPORT (the PDF file).**\n",
    "\n",
    "You may change the prototypes of these functions, and you may write other functions, according to your requirements. We would appreciate it if the required functions were prominent/easy to find.\n",
    "\n",
    "**Adding proper comments to your code is MANDATORY. **"
   ]
  },
  {
   "cell_type": "code",
   "execution_count": 16,
   "metadata": {},
   "outputs": [],
   "source": [
    "import numpy as np\n",
    "import pandas as pd\n",
    "import math\n",
    "import matplotlib.pyplot as plt\n",
    "import copy\n",
    "from sklearn.metrics import confusion_matrix\n",
    "from sklearn.model_selection import train_test_split\n",
    "from scipy.stats import norm\n",
    "\n",
    "# This function should prepare the data by reading it from a file and converting it into a useful format for training and testing\n",
    "\n",
    "def preprocess(file_location):\n",
    "    df = pd.read_csv(file_location, header=None, index_col=0)\n",
    "    ### drop missing values when training\n",
    "    df.replace(9999,np.nan, inplace = True)\n",
    "    df_new = df.dropna(how = 'all')   ### drop instance with all NaN\n",
    "    df_new = df_new.reset_index()\n",
    "    df_new.columns = ['class','x1','x2','x3', 'x4', 'x5', 'x6', 'x7','x8','x9','x10','x11','y1','y2','y3', 'y4', 'y5', 'y6', 'y7','y8','y9','y10','y11']\n",
    "    print('File has been preprocessed.')\n",
    "    return df_new"
   ]
  },
  {
   "cell_type": "code",
   "execution_count": 17,
   "metadata": {},
   "outputs": [],
   "source": [
    "# This function should calculat prior probabilities and likelihoods from the training data and using\n",
    "# them to build a naive Bayes model\n",
    "\n",
    "### frequency mean and std of each class\n",
    "def train(train_set):\n",
    "    label = train_set['class']\n",
    "    dict_info = {}\n",
    "    for each_class in set(label):     ###dict stores prior probability & mean $ std\n",
    "        dict_info[each_class] = []\n",
    "        data = train_set.loc[train_set['class'] == each_class]\n",
    "        dict_info[each_class].append(data.count()[0]/train_set.shape[0])  ### prior prob of this class\n",
    "        dict_info[each_class].append(data.mean())  ### mean of each feature of this class\n",
    "        dict_info[each_class].append(data.std())  ### unbiased std of each feature of this class\n",
    "    return dict_info"
   ]
  },
  {
   "cell_type": "code",
   "execution_count": 18,
   "metadata": {},
   "outputs": [],
   "source": [
    "# This function should predict classes for new items in a test dataset (for the purposes of this assignment, you\n",
    "# can re-use the training data as a test set)\n",
    "\n",
    "def predict(train_info, test_location, smalllog):\n",
    "    ### preprocess the teating file\n",
    "    test  = pd.read_csv(test_location)\n",
    "    test.replace(9999,np.nan, inplace = True)\n",
    "    test.columns = ['class','x1','x2','x3', 'x4', 'x5', 'x6', 'x7','x8','x9','x10','x11','y1','y2','y3', 'y4', 'y5', 'y6', 'y7','y8','y9','y10','y11']\n",
    "    label = train_info.keys()\n",
    "    pred = {}\n",
    "    for each in test.iterrows():   ### predict each test data\n",
    "        prob = {}\n",
    "        for each_label in label:   ### calculate prob of oberving this instance given it belongs to each class \n",
    "            prob[each_label] = math.log(train_info[each_label][0]) ## prior probability\n",
    "            for attribute in test.columns[1:]:\n",
    "                if math.isnan(each[1][attribute])== False:   ### ignore missing values\n",
    "                    likelihood = norm.pdf(each[1][attribute],train_info[each_label][1][attribute], train_info[each_label][2][attribute])    ### calculate likelihood \n",
    "                    if likelihood>0:     ###replace log(0) with a large negative value \n",
    "                        prob[each_label] += math.log(likelihood)\n",
    "                    else:\n",
    "                        prob[each_label] += smalllog  ## smoothing method\n",
    "        prob = sorted(prob.items(),key=lambda x:x[1],reverse=True)  ### choose the largest log value\n",
    "        pred[each[0]] = [prob[0][0], each[1][0]]   ### prediction & true class\n",
    "    return pred"
   ]
  },
  {
   "cell_type": "code",
   "execution_count": 19,
   "metadata": {},
   "outputs": [],
   "source": [
    "# This function should evaliate the prediction performance by comparing your model’s class outputs to ground\n",
    "# truth labels\n",
    "\n",
    "### evaluation state\n",
    "### acuracy\n",
    "def evaluate(pred):\n",
    "    true = 0\n",
    "    for output in pred.items():\n",
    "        if output[1][0] == output[1][1]:\n",
    "            true += 1\n",
    "    print('Naive bayes accuracy is', true/len(pred.keys()))\n",
    "    return true/len(pred.keys())"
   ]
  },
  {
   "cell_type": "markdown",
   "metadata": {},
   "source": [
    "## Questions \n",
    "\n",
    "\n",
    "If you are in a group of 1, you will respond to **two** questions of your choosing.\n",
    "\n",
    "If you are in a group of 2, you will respond to **four** questions of your choosing.\n",
    "\n",
    "A response to a question should take about 100–250 words, and make reference to the data wherever possible.\n",
    "\n",
    "#### NOTE: you may develope codes or functions to help respond to the question here, but your formal answer should be submitted separately as a PDF."
   ]
  },
  {
   "cell_type": "markdown",
   "metadata": {},
   "source": [
    "### Q1\n",
    "Since this is a multiclass classification problem, there are multiple ways to compute precision, recall, and F-score for this classifier. Implement at least two of the methods from the \"Model Evaluation\" lecture and discuss any differences between them. (The implementation should be your own and should not just call a pre-existing function.)"
   ]
  },
  {
   "cell_type": "code",
   "execution_count": 20,
   "metadata": {},
   "outputs": [],
   "source": [
    "### Question 1 --- Micro vs. Macro\n",
    "\n",
    "### return confusion matrix of each class\n",
    "def predictionTable(pred, test_location):\n",
    "    test = pd.read_csv(test_location, header=None)\n",
    "    test.columns = ['class','x1','x2','x3', 'x4', 'x5', 'x6', 'x7','x8','x9','x10','x11','y1','y2','y3', 'y4', 'y5', 'y6', 'y7','y8','y9','y10','y11']\n",
    "    label = test['class']\n",
    "    ### big dictionary stores all true class label names\n",
    "    table = {}\n",
    "    prediction = {}\n",
    "    for each_class in label:   ### prediction value\n",
    "        prediction[each_class] = 0\n",
    "    for each_class in label:   ### actual value\n",
    "        table[each_class] = copy.deepcopy(prediction)\n",
    "    for each in pred.items():\n",
    "        table[each[1][1]][each[1][0]]+=1  \n",
    "    table = pd.DataFrame.from_dict(table, orient='index')\n",
    "    return table\n",
    "\n",
    "def macroEvaluation(table):\n",
    "    precision_arr = []\n",
    "    recall_arr = []\n",
    "    macro = {}\n",
    "    table_T=table.T  ###transpose to calculate sum of rows--actual number of elements in each class\n",
    "    for label in table._stat_axis.values.tolist():\n",
    "        TP = table.loc[label][label]\n",
    "        FP = table.sum()[label]-TP\n",
    "        FN = table_T.sum()[label]-TP\n",
    "        precision_arr.append(TP/(TP+FP))\n",
    "        recall_arr.append(TP/(TP+FN))\n",
    "    macro['precision']=np.mean(precision_arr)\n",
    "    macro['recall']=np.mean(recall_arr)\n",
    "    ###two possible ways to implement macro-F\n",
    "    macro['F']=2*np.mean(precision_arr)*np.mean(recall_arr)/(np.mean(recall_arr)+np.mean(precision_arr)) \n",
    "    print('Macro-precision is:', macro['precision'])\n",
    "    print('Macro-recall is:', macro['recall'])\n",
    "    print('Macro-F-score is:', macro['F'])\n",
    "    return macro\n",
    "\n",
    "def microEvaluation(table):\n",
    "    TP_arr = []\n",
    "    FP_arr = []\n",
    "    FN_arr = []\n",
    "    micro = {}\n",
    "    table_T=table.T  ###transpose to calculate sum of rows--actual number of elements in each class\n",
    "    for label in table._stat_axis.values.tolist():\n",
    "        TP_arr.append(table.loc[label][label])\n",
    "        FP_arr.append(table.sum()[label]-table.loc[label][label])\n",
    "        FN_arr.append(table_T.sum()[label]-table.loc[label][label])\n",
    "    micro['precision']=np.sum(TP_arr)/(np.sum(TP_arr)+np.sum(FP_arr))\n",
    "    micro['recall']=np.sum(TP_arr)/(np.sum(TP_arr)+np.sum(FN_arr))\n",
    "    micro['F']=2*micro['precision']*micro['recall']/(micro['recall']+micro['precision'])\n",
    "    print('Micro-precision is:', micro['precision'])\n",
    "    print('Micro-recall is:', micro['recall'])\n",
    "    print('Micro-F-score is:', micro['F'])\n",
    "    return micro\n",
    "\n"
   ]
  },
  {
   "cell_type": "markdown",
   "metadata": {},
   "source": [
    "### Q2\n",
    "The Gaussian naıve Bayes classifier assumes that numeric attributes come from a Gaussian distribution. Is this assumption always true for the numeric attributes in this dataset? Identify some cases where the Gaussian assumption is violated and describe any evidence (or lack thereof) that this has some effect on the classifier’s predictions."
   ]
  },
  {
   "cell_type": "code",
   "execution_count": null,
   "metadata": {
    "collapsed": true
   },
   "outputs": [],
   "source": []
  },
  {
   "cell_type": "markdown",
   "metadata": {},
   "source": [
    "### Q3\n",
    "Implement a kernel density estimate (KDE) naive Bayes classifier and compare its performance to the Gaussian naive Bayes classifier. Recall that KDE has kernel bandwidth as a free parameter -- you can choose an arbitrary value for this, but a value in the range 5-25 is recommended. Discuss any differences you observe between the Gaussian and KDE naive Bayes classifiers. (As with the Gaussian naive Bayes, this KDE naive Bayes implementation should be your own and should not just call a pre-existing function.)"
   ]
  },
  {
   "cell_type": "code",
   "execution_count": 21,
   "metadata": {},
   "outputs": [
    {
     "data": {
      "text/plain": [
       "Text(0.5, 1.0, 'Gaussian vs KDE with sigma 10 for bridge x1')"
      ]
     },
     "execution_count": 21,
     "metadata": {},
     "output_type": "execute_result"
    },
    {
     "data": {
      "image/png": "[encoded data removed]",
      "text/plain": [
       "<Figure size 1440x1080 with 1 Axes>"
      ]
     },
     "metadata": {
      "needs_background": "light"
     },
     "output_type": "display_data"
    }
   ],
   "source": [
    "### Question 5\n",
    "### KDE naive Bayes Classifier ###\n",
    "### generate probability density of each attribute in each class + prior probability \n",
    "def train_KDE(train_set):\n",
    "    label = train_set['class']\n",
    "    dict_info = {}  \n",
    "    for each_class in set(label):     ###dict stores prior probability\n",
    "        dict_info[each_class] = {}\n",
    "        data = train_set.loc[train_set['class'] == each_class] ### all data with the same class\n",
    "        dict_info[each_class]['prior']=(data.count()[0]/train_set.shape[0])  ### prior prob of this class\n",
    "        for feature in train_set.columns[1:]:   ### get each feature's density function based on centered Gaussian\n",
    "            dict_info[each_class][feature]=data[feature]\n",
    "    return dict_info\n",
    "\n",
    "def density_KDE(data, sigma, instance):\n",
    "    density = sum(norm.pdf(instance, loc=xi, scale=sigma) for xi in data if math.isnan(xi)==False)/data.count()\n",
    "    return density  ### calculate density of given instance in KDE prob\n",
    "\n",
    "def predict_KDE(train_info, test_location, sigma, smalllog):\n",
    "    ### preprocess the testing file\n",
    "    test  = pd.read_csv(test_location)\n",
    "    test.replace(9999,np.nan, inplace = True)\n",
    "    test.columns = ['class','x1','x2','x3', 'x4', 'x5', 'x6', 'x7','x8','x9','x10','x11','y1','y2','y3', 'y4', 'y5', 'y6', 'y7','y8','y9','y10','y11']\n",
    "    label = train_info.keys()\n",
    "    pred = {}\n",
    "    for each in test.iterrows():   ### predict each test data\n",
    "        prob = {}\n",
    "        for each_label in label:   ### calculate prob of oberving this instance given it belongs to each class \n",
    "            prob[each_label] = math.log(train_info[each_label]['prior']) ## prior probability\n",
    "            for attribute in test.columns[1:]:\n",
    "                if math.isnan(each[1][attribute])== False:   ### ignore missing values\n",
    "                    likelihood = density_KDE(train_info[each_label][attribute], sigma, each[1][attribute])    ### calculate likelihood \n",
    "                    if likelihood>0:     ###replace log(0) with a large negative value \n",
    "                        prob[each_label] += math.log(likelihood)\n",
    "                    else:\n",
    "                        prob[each_label] += smalllog  ### smoothing method\n",
    "        prob = sorted(prob.items(),key=lambda x:x[1],reverse=True)  ### choose the largest log value\n",
    "        pred[each[0]] = [prob[0][0], each[1][0]]   ### prediction & true class\n",
    "    return pred\n",
    "\n",
    "\n",
    "#### visualize KDE and Gaussian ####\n",
    "### Gaussian bridge-x1\n",
    "def normfun(x, mu, sigma):\n",
    "    pdf = np.exp(-((x - mu)**2)/(2*sigma**2)) / (sigma * np.sqrt(2*np.pi))\n",
    "    return pdf\n",
    "data = pd.Series((train_set[train_set['class']=='bridge']['x1']).values).tolist()\n",
    "y = []\n",
    "for i in data:\n",
    "    y.append(0)\n",
    "x = np.arange(-500, 500, 0.1)\n",
    "y1 = normfun(x, train_info['bridge'][1]['x1'], train_info['bridge'][2]['x1'])\n",
    "y2=0\n",
    "count = 0\n",
    "for each in data:\n",
    "    if math.isnan(each) != True:\n",
    "        count+=1\n",
    "        y2 += normfun(x,each,10)\n",
    "y2 = y2/count\n",
    "plt.figure(figsize=(20,15))\n",
    "plt.plot(x, y1)\n",
    "plt.plot(x, y2)\n",
    "plt.scatter(data, y)\n",
    "plt.title('Gaussian vs KDE with sigma 10 for bridge x1')"
   ]
  },
  {
   "cell_type": "markdown",
   "metadata": {},
   "source": [
    "### Q4\n",
    "Instead of using an arbitrary kernel bandwidth for the KDE naive Bayes classifier, use random hold-out or cross-validation to choose the kernel bandwidth. Discuss how this changes the model performance compared to using an arbitrary kernel bandwidth."
   ]
  },
  {
   "cell_type": "code",
   "execution_count": null,
   "metadata": {
    "collapsed": true
   },
   "outputs": [],
   "source": []
  },
  {
   "cell_type": "markdown",
   "metadata": {},
   "source": [
    "### Q5\n",
    "Naive Bayes ignores missing values, but in pose recognition tasks the missing values can be informative. Missing values indicate that some part of the body was obscured and sometimes this is relevant to the pose (e.g., holding one hand behind the back). Are missing values useful for this task? Implement a method that incorporates information about missing values and demonstrate whether it changes the classification results."
   ]
  },
  {
   "cell_type": "code",
   "execution_count": null,
   "metadata": {
    "collapsed": true
   },
   "outputs": [],
   "source": []
  },
  {
   "cell_type": "markdown",
   "metadata": {},
   "source": [
    "### Q6\n",
    "Engineer your own pose features from the provided keypoints. Instead of using the (x,y) positions of keypoints, you might consider the angles of the limbs or body, or the distances between pairs of keypoints. How does a naive Bayes classifier based on your engineered features compare to the classifier using (x,y) values? Please note that we are interested in explainable features for pose recognition, so simply putting the (x,y) values in a neural network or similar to get an arbitrary embedding will not receive full credit for this question. You should be able to explain the rationale behind your proposed features. Also, don't forget the conditional independence assumption of naive Bayes when proposing new features -- a large set of highly-correlated features may not work well."
   ]
  },
  {
   "cell_type": "code",
   "execution_count": null,
   "metadata": {
    "collapsed": true
   },
   "outputs": [],
   "source": []
  },
  {
   "cell_type": "code",
   "execution_count": 22,
   "metadata": {},
   "outputs": [
    {
     "name": "stdout",
     "output_type": "stream",
     "text": [
      "File has been preprocessed.\n",
      "Naive bayes accuracy is 0.7304347826086957\n"
     ]
    }
   ],
   "source": [
    "train_set = preprocess('C:/Users/Ivy/Desktop/ML/asmt1/train.csv')\n",
    "train_info = train(train_set)\n",
    "pred = predict(train_info, 'C:/Users/Ivy/Desktop/ML/asmt1/test.csv', -50)\n",
    "acc = evaluate(pred)"
   ]
  },
  {
   "cell_type": "code",
   "execution_count": 25,
   "metadata": {},
   "outputs": [
    {
     "name": "stdout",
     "output_type": "stream",
     "text": [
      "File has been preprocessed.\n",
      "Naive bayes accuracy is 0.7739130434782608\n"
     ]
    }
   ],
   "source": [
    "train_set = preprocess('C:/Users/Ivy/Desktop/ML/asmt1/train.csv')\n",
    "train_info_KDE = train_KDE(train_set)\n",
    "pred_KDE = predict_KDE(train_info_KDE, 'C:/Users/Ivy/Desktop/ML/asmt1/test.csv', 10, -50)\n",
    "acc = evaluate(pred_KDE)"
   ]
  },
  {
   "cell_type": "code",
   "execution_count": 27,
   "metadata": {},
   "outputs": [
    {
     "name": "stdout",
     "output_type": "stream",
     "text": [
      "Macro-precision is: 0.7664005602240895\n",
      "Macro-recall is: 0.7615170940170939\n",
      "Macro-F-score is: 0.7639510229558422\n",
      "Micro-precision is: 0.7739130434782608\n",
      "Micro-recall is: 0.7739130434782608\n",
      "Micro-F-score is: 0.7739130434782608\n",
      "Below is the confusion matrix\n"
     ]
    },
    {
     "data": {
      "text/html": [
       "<div>\n",
       "<style scoped>\n",
       "    .dataframe tbody tr th:only-of-type {\n",
       "        vertical-align: middle;\n",
       "    }\n",
       "\n",
       "    .dataframe tbody tr th {\n",
       "        vertical-align: top;\n",
       "    }\n",
       "\n",
       "    .dataframe thead th {\n",
       "        text-align: right;\n",
       "    }\n",
       "</style>\n",
       "<table border=\"1\" class=\"dataframe\">\n",
       "  <thead>\n",
       "    <tr style=\"text-align: right;\">\n",
       "      <th></th>\n",
       "      <th>bridge</th>\n",
       "      <th>childs</th>\n",
       "      <th>downwarddog</th>\n",
       "      <th>mountain</th>\n",
       "      <th>plank</th>\n",
       "      <th>seatedforwardbend</th>\n",
       "      <th>tree</th>\n",
       "      <th>trianglepose</th>\n",
       "      <th>warrior1</th>\n",
       "      <th>warrior2</th>\n",
       "    </tr>\n",
       "  </thead>\n",
       "  <tbody>\n",
       "    <tr>\n",
       "      <th>bridge</th>\n",
       "      <td>8</td>\n",
       "      <td>1</td>\n",
       "      <td>1</td>\n",
       "      <td>0</td>\n",
       "      <td>3</td>\n",
       "      <td>0</td>\n",
       "      <td>0</td>\n",
       "      <td>0</td>\n",
       "      <td>0</td>\n",
       "      <td>0</td>\n",
       "    </tr>\n",
       "    <tr>\n",
       "      <th>childs</th>\n",
       "      <td>0</td>\n",
       "      <td>10</td>\n",
       "      <td>1</td>\n",
       "      <td>1</td>\n",
       "      <td>0</td>\n",
       "      <td>1</td>\n",
       "      <td>0</td>\n",
       "      <td>0</td>\n",
       "      <td>0</td>\n",
       "      <td>0</td>\n",
       "    </tr>\n",
       "    <tr>\n",
       "      <th>downwarddog</th>\n",
       "      <td>1</td>\n",
       "      <td>0</td>\n",
       "      <td>14</td>\n",
       "      <td>3</td>\n",
       "      <td>0</td>\n",
       "      <td>0</td>\n",
       "      <td>0</td>\n",
       "      <td>0</td>\n",
       "      <td>0</td>\n",
       "      <td>0</td>\n",
       "    </tr>\n",
       "    <tr>\n",
       "      <th>mountain</th>\n",
       "      <td>0</td>\n",
       "      <td>0</td>\n",
       "      <td>0</td>\n",
       "      <td>26</td>\n",
       "      <td>0</td>\n",
       "      <td>0</td>\n",
       "      <td>4</td>\n",
       "      <td>0</td>\n",
       "      <td>0</td>\n",
       "      <td>0</td>\n",
       "    </tr>\n",
       "    <tr>\n",
       "      <th>plank</th>\n",
       "      <td>1</td>\n",
       "      <td>0</td>\n",
       "      <td>0</td>\n",
       "      <td>0</td>\n",
       "      <td>7</td>\n",
       "      <td>0</td>\n",
       "      <td>0</td>\n",
       "      <td>0</td>\n",
       "      <td>1</td>\n",
       "      <td>0</td>\n",
       "    </tr>\n",
       "    <tr>\n",
       "      <th>seatedforwardbend</th>\n",
       "      <td>0</td>\n",
       "      <td>1</td>\n",
       "      <td>1</td>\n",
       "      <td>0</td>\n",
       "      <td>1</td>\n",
       "      <td>6</td>\n",
       "      <td>0</td>\n",
       "      <td>0</td>\n",
       "      <td>0</td>\n",
       "      <td>0</td>\n",
       "    </tr>\n",
       "    <tr>\n",
       "      <th>tree</th>\n",
       "      <td>0</td>\n",
       "      <td>0</td>\n",
       "      <td>0</td>\n",
       "      <td>0</td>\n",
       "      <td>0</td>\n",
       "      <td>0</td>\n",
       "      <td>4</td>\n",
       "      <td>0</td>\n",
       "      <td>2</td>\n",
       "      <td>0</td>\n",
       "    </tr>\n",
       "    <tr>\n",
       "      <th>trianglepose</th>\n",
       "      <td>0</td>\n",
       "      <td>0</td>\n",
       "      <td>0</td>\n",
       "      <td>0</td>\n",
       "      <td>0</td>\n",
       "      <td>0</td>\n",
       "      <td>0</td>\n",
       "      <td>4</td>\n",
       "      <td>0</td>\n",
       "      <td>0</td>\n",
       "    </tr>\n",
       "    <tr>\n",
       "      <th>warrior1</th>\n",
       "      <td>0</td>\n",
       "      <td>0</td>\n",
       "      <td>0</td>\n",
       "      <td>0</td>\n",
       "      <td>1</td>\n",
       "      <td>0</td>\n",
       "      <td>1</td>\n",
       "      <td>0</td>\n",
       "      <td>3</td>\n",
       "      <td>0</td>\n",
       "    </tr>\n",
       "    <tr>\n",
       "      <th>warrior2</th>\n",
       "      <td>0</td>\n",
       "      <td>0</td>\n",
       "      <td>0</td>\n",
       "      <td>0</td>\n",
       "      <td>0</td>\n",
       "      <td>0</td>\n",
       "      <td>1</td>\n",
       "      <td>0</td>\n",
       "      <td>0</td>\n",
       "      <td>7</td>\n",
       "    </tr>\n",
       "  </tbody>\n",
       "</table>\n",
       "</div>"
      ],
      "text/plain": [
       "                   bridge  childs  downwarddog  mountain  plank  \\\n",
       "bridge                  8       1            1         0      3   \n",
       "childs                  0      10            1         1      0   \n",
       "downwarddog             1       0           14         3      0   \n",
       "mountain                0       0            0        26      0   \n",
       "plank                   1       0            0         0      7   \n",
       "seatedforwardbend       0       1            1         0      1   \n",
       "tree                    0       0            0         0      0   \n",
       "trianglepose            0       0            0         0      0   \n",
       "warrior1                0       0            0         0      1   \n",
       "warrior2                0       0            0         0      0   \n",
       "\n",
       "                   seatedforwardbend  tree  trianglepose  warrior1  warrior2  \n",
       "bridge                             0     0             0         0         0  \n",
       "childs                             1     0             0         0         0  \n",
       "downwarddog                        0     0             0         0         0  \n",
       "mountain                           0     4             0         0         0  \n",
       "plank                              0     0             0         1         0  \n",
       "seatedforwardbend                  6     0             0         0         0  \n",
       "tree                               0     4             0         2         0  \n",
       "trianglepose                       0     0             4         0         0  \n",
       "warrior1                           0     1             0         3         0  \n",
       "warrior2                           0     1             0         0         7  "
      ]
     },
     "execution_count": 27,
     "metadata": {},
     "output_type": "execute_result"
    }
   ],
   "source": [
    "table = predictionTable(pred, 'C:/Users/Ivy/Desktop/ML/asmt1/test.csv')\n",
    "macroEvaluation(table)\n",
    "microEvaluation(table)\n",
    "#### Generate Confusion Matrix ####\n",
    "print('Below is the confusion matrix')\n",
    "table"
   ]
  },
  {
   "cell_type": "code",
   "execution_count": null,
   "metadata": {},
   "outputs": [],
   "source": []
  }
 ],
 "metadata": {
  "kernelspec": {
   "display_name": "Python 3",
   "language": "python",
   "name": "python3"
  },
  "language_info": {
   "codemirror_mode": {
    "name": "ipython",
    "version": 3
   },
   "file_extension": ".py",
   "mimetype": "text/x-python",
   "name": "python",
   "nbconvert_exporter": "python",
   "pygments_lexer": "ipython3",
   "version": "3.8.5"
  }
 },
 "nbformat": 4,
 "nbformat_minor": 4
}
